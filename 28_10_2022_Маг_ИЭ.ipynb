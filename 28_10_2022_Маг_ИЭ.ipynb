{
  "nbformat": 4,
  "nbformat_minor": 0,
  "metadata": {
    "colab": {
      "provenance": [],
      "collapsed_sections": [],
      "authorship_tag": "ABX9TyPP6D00OShXzj9kDZ14lIky",
      "include_colab_link": true
    },
    "kernelspec": {
      "name": "python3",
      "display_name": "Python 3"
    },
    "language_info": {
      "name": "python"
    }
  },
  "cells": [
    {
      "cell_type": "markdown",
      "metadata": {
        "id": "view-in-github",
        "colab_type": "text"
      },
      "source": [
        "<a href=\"https://colab.research.google.com/github/CodeHunterOfficial/PythonForGreatEconomists/blob/main/28_10_2022_%D0%9C%D0%B0%D0%B3_%D0%98%D0%AD.ipynb\" target=\"_parent\"><img src=\"https://colab.research.google.com/assets/colab-badge.svg\" alt=\"Open In Colab\"/></a>"
      ]
    },
    {
      "cell_type": "markdown",
      "source": [
        "**Proc17.** Описать функцию RootsCount(A, B, C) целого типа, определяющую количество корней квадратного уравнения \n",
        "$Ax^2+Bx+X=0  (A, B, C$ —вещественные параметры, $A\\neq 0)$. С ее помощью найти количество корней для каждого из трех квадратных уравнений с данными коэффициентами.\n",
        "Количество корней определять по значению дискриминанта:\n",
        "$$D = B^2 − 4·A·C.$$"
      ],
      "metadata": {
        "id": "4c0TgNVstIQ3"
      }
    },
    {
      "cell_type": "code",
      "execution_count": 6,
      "metadata": {
        "id": "b66PA8KMs4aD"
      },
      "outputs": [],
      "source": [
        "def RootsCount(a,b,c):\n",
        "  d=b**2-4*a*c\n",
        "  if d>0:\n",
        "    return 2\n",
        "  elif d==0:\n",
        "    return 1\n",
        "  else:\n",
        "    return 0"
      ]
    },
    {
      "cell_type": "code",
      "source": [
        "a=float(input())\n",
        "b=float(input())\n",
        "c=float(input())\n",
        "RootsCount(a,b,c)"
      ],
      "metadata": {
        "colab": {
          "base_uri": "https://localhost:8080/"
        },
        "id": "IIceybxQujRF",
        "outputId": "0b0e29f4-e624-4e7e-f58b-e42ccd79203a"
      },
      "execution_count": 7,
      "outputs": [
        {
          "name": "stdout",
          "output_type": "stream",
          "text": [
            "2\n",
            "8\n",
            "3\n"
          ]
        },
        {
          "output_type": "execute_result",
          "data": {
            "text/plain": [
              "2"
            ]
          },
          "metadata": {},
          "execution_count": 7
        }
      ]
    },
    {
      "cell_type": "markdown",
      "source": [
        "**Proc18.** Описать функцию CircleS(R) вещественного типа, находящую площадь круга радиуса R (R — вещественное). С помощью этой функции найти площади трех кругов с данными радиусами. Площадь круга радиуса R вычисляется по формуле $S = π·R^2$. В качестве значения π использовать 3.14"
      ],
      "metadata": {
        "id": "Ba8fZ2BkvkWK"
      }
    },
    {
      "cell_type": "code",
      "source": [
        "def CircleS(R):\n",
        "  S=3.14*R**2\n",
        "  return S  "
      ],
      "metadata": {
        "id": "C3KtWtGsvx7B"
      },
      "execution_count": 11,
      "outputs": []
    },
    {
      "cell_type": "code",
      "source": [
        "for i in range (3):\n",
        "  R=float(input())\n",
        "  print (CircleS(R))"
      ],
      "metadata": {
        "colab": {
          "base_uri": "https://localhost:8080/"
        },
        "id": "TSbcKGnkwV4Q",
        "outputId": "d9b58c55-4fa1-4b09-eee9-87db5847e9a6"
      },
      "execution_count": 10,
      "outputs": [
        {
          "output_type": "stream",
          "name": "stdout",
          "text": [
            "1\n",
            "3.14\n",
            "3\n",
            "28.26\n",
            "5\n",
            "78.5\n"
          ]
        }
      ]
    },
    {
      "cell_type": "markdown",
      "source": [
        "Proc19. Описать функцию RingS(R1, R2) вещественного типа, находящую площадь кольца, заключенного между двумя окружностями с общим центром и радиусами R1 и R2 (R1 и R2 — вещественные, $R_1 > R_2$). С ее помощью найти площади трех колец, для которых даны внешние и внутренние радиусы. Воспользоваться формулой площади круга радиуса R: \n",
        "$$S = π·R^2$$\n",
        "В качестве значения π использовать 3.14."
      ],
      "metadata": {
        "id": "wR0STUeKxYLo"
      }
    },
    {
      "cell_type": "code",
      "source": [
        "def RingS(R1,R2):\n",
        "  S1=3.14*R1**2\n",
        "  S2=3.14*R2**2\n",
        "  S3=S1-S2\n",
        "  return S3"
      ],
      "metadata": {
        "id": "RfsJ_FukyEiy"
      },
      "execution_count": 12,
      "outputs": []
    },
    {
      "cell_type": "code",
      "source": [
        "for i in range(3):\n",
        "  R1=float(input());\n",
        "  R2=float(input())\n",
        "  print (RingS(R1,R2))"
      ],
      "metadata": {
        "colab": {
          "base_uri": "https://localhost:8080/"
        },
        "id": "f-WUyslBytAo",
        "outputId": "b96f6f38-19ac-4821-c407-456749d0e646"
      },
      "execution_count": 13,
      "outputs": [
        {
          "output_type": "stream",
          "name": "stdout",
          "text": [
            "2\n",
            "1\n",
            "9.42\n",
            "3\n",
            "2\n",
            "15.700000000000001\n",
            "5\n",
            "4\n",
            "28.259999999999998\n"
          ]
        }
      ]
    },
    {
      "cell_type": "markdown",
      "source": [
        "**Proc20.** Описать функцию TriangleP(a, h), находящую периметр равнобед\u0002ренного треугольника по его основанию a и высоте h, проведенной к основанию (a и h — вещественные). С помощью этой функции найти периметры трех треугольников, для которых даны основания и высоты.\n",
        "Для нахождения боковой стороны b треугольника использовать теорему Пифагора: \n",
        "$$b^2 = (a/2)^2 + h^2$$\n"
      ],
      "metadata": {
        "id": "n9821IAfzeLZ"
      }
    },
    {
      "cell_type": "code",
      "source": [
        "from math import sqrt\n",
        "def TriangleP(a, h):\n",
        "  b=sqrt((a/2)**2+h**2)\n",
        "  p=a+2*b\n",
        "  return p"
      ],
      "metadata": {
        "id": "XKaRJWaUz5wj"
      },
      "execution_count": 14,
      "outputs": []
    },
    {
      "cell_type": "code",
      "source": [
        "for i in range(3):\n",
        "  a=float(input())\n",
        "  h=float(input())\n",
        "  print(TriangleP(a, h))"
      ],
      "metadata": {
        "colab": {
          "base_uri": "https://localhost:8080/"
        },
        "id": "CfSnFUXi1KZ0",
        "outputId": "cc90ce7a-ec71-4402-8c29-68201614472d"
      },
      "execution_count": 16,
      "outputs": [
        {
          "output_type": "stream",
          "name": "stdout",
          "text": [
            "1\n",
            "2\n",
            "5.123105625617661\n",
            "2\n",
            "1\n",
            "4.82842712474619\n",
            "1\n",
            "0\n",
            "2.0\n"
          ]
        }
      ]
    },
    {
      "cell_type": "markdown",
      "source": [
        "**Proc21.** Описать функцию SumRange(A, B) целого типа, находящую сумму всех целых чисел от A до B включительно (A и B — целые). Если A > B,то функция возвращает 0. С помощью этой функции найти суммы чисел от A до B и от B до C, если даны числа A, B, C.\n"
      ],
      "metadata": {
        "id": "5kke22Bz2IUc"
      }
    },
    {
      "cell_type": "code",
      "source": [
        "def SumRange(A,B):\n",
        "  s=0\n",
        "  for i in range (A, B+1):\n",
        "    s+=i\n",
        "  return s"
      ],
      "metadata": {
        "id": "vA8NQV6w2SOs"
      },
      "execution_count": 18,
      "outputs": []
    },
    {
      "cell_type": "code",
      "source": [
        "A=int(input())\n",
        "B=int(input())\n",
        "C=int(input())\n",
        "print(SumRange(A,B), SumRange(B,C))"
      ],
      "metadata": {
        "colab": {
          "base_uri": "https://localhost:8080/"
        },
        "id": "o8w6d2JE3xTN",
        "outputId": "124615a4-2348-416a-8ddb-d564c4b1c7ce"
      },
      "execution_count": 19,
      "outputs": [
        {
          "output_type": "stream",
          "name": "stdout",
          "text": [
            "1\n",
            "5\n",
            "10\n",
            "15 45\n"
          ]
        }
      ]
    },
    {
      "cell_type": "markdown",
      "source": [
        "**Proc22.**\n",
        "Описать функцию Calc(A, B, Op) вещественного типа, выполняющую над ненулевыми вещественными числами A и B одну из арифметических операций и возвращающую ее результат. Вид операции определяется целым параметром Op: 1 — вычитание, 2 — умножение, 3 — деление, остальные значения — сложение. С помощью Calc выполнить для данных A и B операции, определяемые данными целыми $N_1, N_2, N_3$.\n"
      ],
      "metadata": {
        "id": "-lb_XhyF4SBe"
      }
    },
    {
      "cell_type": "code",
      "source": [
        "def Calc(A, B, Op):\n",
        "  if Op==1:\n",
        "    return A-B\n",
        "  elif Op==2:\n",
        "    return A*B\n",
        "  elif Op==3:\n",
        "    return A/B\n",
        "  else:\n",
        "    return A+B"
      ],
      "metadata": {
        "id": "TweasDpL4h9I"
      },
      "execution_count": 20,
      "outputs": []
    },
    {
      "cell_type": "code",
      "source": [
        "A=float(input())\n",
        "B=float(input())\n",
        "N1=float(input())\n",
        "N2=float(input())\n",
        "N3=float(input())\n",
        "print(Calc(A, B, N1))\n",
        "print(Calc(A, B, N2))\n",
        "print(Calc(A, B, N3))"
      ],
      "metadata": {
        "colab": {
          "base_uri": "https://localhost:8080/"
        },
        "id": "31TW5s6658YK",
        "outputId": "06d56468-08d6-4d7a-c6f3-3dd5eeb12dfc"
      },
      "execution_count": 21,
      "outputs": [
        {
          "output_type": "stream",
          "name": "stdout",
          "text": [
            "20\n",
            "10\n",
            "1\n",
            "2\n",
            "3\n",
            "10.0\n",
            "200.0\n",
            "2.0\n"
          ]
        }
      ]
    },
    {
      "cell_type": "markdown",
      "source": [
        "**Proc23.** Описать функцию Quarter(x, y) целого типа, определяющую номер координатной четверти, в которой находится точка с ненулевыми вещественными координатами (x, y). С помощью этой функции найти номера координатных четвертей для трех точек с данными ненулевыми координатами."
      ],
      "metadata": {
        "id": "Nn0Ws0Ap6iaC"
      }
    },
    {
      "cell_type": "code",
      "source": [
        "def Quarter(x,y):\n",
        "  if x>0 and y>0:\n",
        "    return 1\n",
        "  elif x>0 and y<0:\n",
        "    return 4\n",
        "  elif x<0 and y>0:\n",
        "    return 2\n",
        "  else:\n",
        "    return 3"
      ],
      "metadata": {
        "id": "eUWxJhyn6qjg"
      },
      "execution_count": 22,
      "outputs": []
    },
    {
      "cell_type": "code",
      "source": [
        "for i in range(3):\n",
        "  x=float(input())\n",
        "  y=float(input())\n",
        "  print (Quarter(x,y))"
      ],
      "metadata": {
        "colab": {
          "base_uri": "https://localhost:8080/"
        },
        "id": "hN-5B1RN7lvl",
        "outputId": "0e58e1f7-9ebb-4c65-990f-195aa218b8f6"
      },
      "execution_count": 26,
      "outputs": [
        {
          "output_type": "stream",
          "name": "stdout",
          "text": [
            "1\n",
            "-2\n",
            "4\n",
            "-3\n",
            "-5\n",
            "3\n",
            "5\n",
            "6\n",
            "1\n"
          ]
        }
      ]
    }
  ]
}