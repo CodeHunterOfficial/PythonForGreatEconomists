{
  "nbformat": 4,
  "nbformat_minor": 0,
  "metadata": {
    "colab": {
      "provenance": [],
      "collapsed_sections": [],
      "authorship_tag": "ABX9TyOR/rBvSCGTDnGgDpG1NOQY",
      "include_colab_link": true
    },
    "kernelspec": {
      "name": "python3",
      "display_name": "Python 3"
    },
    "language_info": {
      "name": "python"
    }
  },
  "cells": [
    {
      "cell_type": "markdown",
      "metadata": {
        "id": "view-in-github",
        "colab_type": "text"
      },
      "source": [
        "<a href=\"https://colab.research.google.com/github/CodeHunterOfficial/PythonForGreatEconomists/blob/main/ArraysGE.ipynb\" target=\"_parent\"><img src=\"https://colab.research.google.com/assets/colab-badge.svg\" alt=\"Open In Colab\"/></a>"
      ]
    },
    {
      "cell_type": "markdown",
      "source": [
        "###Создание списка\n",
        "Для создания списка применяются квадратные скобки [], внутри\n",
        "которых через запятую перечисляются элементы списка. Например,\n",
        "определим список чисел:"
      ],
      "metadata": {
        "id": "_zx2i6WtDu_J"
      }
    },
    {
      "cell_type": "code",
      "execution_count": 1,
      "metadata": {
        "id": "J6LM8trhDqIC"
      },
      "outputs": [],
      "source": [
        "\n",
        "numbers = [1, 2, 3, 4,5]"
      ]
    },
    {
      "cell_type": "code",
      "source": [
        "#Вывод\n",
        "numbers"
      ],
      "metadata": {
        "colab": {
          "base_uri": "https://localhost:8080/"
        },
        "id": "To5_zI3UEDnn",
        "outputId": "326a8d4c-7418-464e-cf53-a1a1660dceac"
      },
      "execution_count": 2,
      "outputs": [
        {
          "output_type": "execute_result",
          "data": {
            "text/plain": [
              "[1, 2, 3, 4, 5]"
            ]
          },
          "metadata": {},
          "execution_count": 2
        }
      ]
    },
    {
      "cell_type": "code",
      "source": [
        "#Вывод\n",
        "for i in numbers:\n",
        "  print(i)"
      ],
      "metadata": {
        "colab": {
          "base_uri": "https://localhost:8080/"
        },
        "id": "GhG10kQSENWP",
        "outputId": "63c37a4d-124e-4968-d042-7d5b960ed246"
      },
      "execution_count": 3,
      "outputs": [
        {
          "output_type": "stream",
          "name": "stdout",
          "text": [
            "1\n",
            "2\n",
            "3\n",
            "4\n",
            "5\n"
          ]
        }
      ]
    },
    {
      "cell_type": "code",
      "source": [
        "#Вывод\n",
        "for i in numbers:\n",
        "  print(i, end=' ')"
      ],
      "metadata": {
        "colab": {
          "base_uri": "https://localhost:8080/"
        },
        "id": "HenEvNL6EaQA",
        "outputId": "f5a8c87b-7dc6-4ff5-c633-f151df068f0f"
      },
      "execution_count": 4,
      "outputs": [
        {
          "output_type": "stream",
          "name": "stdout",
          "text": [
            "1 2 3 4 5 "
          ]
        }
      ]
    },
    {
      "cell_type": "code",
      "source": [
        "people = [\"Kamilla\", \"Liliya\", \"Ayaz\", \"Bulat\"]"
      ],
      "metadata": {
        "id": "wuVpZCCXEhm3"
      },
      "execution_count": 5,
      "outputs": []
    },
    {
      "cell_type": "code",
      "source": [
        "people"
      ],
      "metadata": {
        "colab": {
          "base_uri": "https://localhost:8080/"
        },
        "id": "gFLLzSVcFN9n",
        "outputId": "1c628466-0be4-4ab3-e534-abe38cb9430b"
      },
      "execution_count": 6,
      "outputs": [
        {
          "output_type": "execute_result",
          "data": {
            "text/plain": [
              "['Kamilla', 'Liliya', 'Ayaz', 'Bulat']"
            ]
          },
          "metadata": {},
          "execution_count": 6
        }
      ]
    },
    {
      "cell_type": "code",
      "source": [
        "#Вывод\n",
        "for i in people:\n",
        "  print(i, end=' ')"
      ],
      "metadata": {
        "colab": {
          "base_uri": "https://localhost:8080/"
        },
        "id": "3htOuKmpFQpd",
        "outputId": "e8b7b584-2c7c-439f-969f-c02657fdd8ff"
      },
      "execution_count": 7,
      "outputs": [
        {
          "output_type": "stream",
          "name": "stdout",
          "text": [
            "Kamilla Liliya Ayaz Bulat "
          ]
        }
      ]
    },
    {
      "cell_type": "code",
      "source": [
        "numbers = [5] * 6   # 6 раз повторяем 5\n",
        "print(numbers)      # [5, 5, 5, 5, 5, 5]\n",
        "\n",
        "people = [\"Kamilla\"] * 30    # 3 раза повторяем \"Kamilla\"\n",
        "print(people)           # [\"Kamilla\", \"Kamilla\", \"Kamilla\"]\n",
        "\n",
        "students = [\"Ayaz\", \"Liliya\"] * 10   # 2 раза повторяем \"Ayaz\", \"Liliya\"\n",
        "print(students)                 # [\"Ayaz\", \"Liliya\", \"Ayaz\", \"Liliya\"]\n",
        "\n"
      ],
      "metadata": {
        "colab": {
          "base_uri": "https://localhost:8080/"
        },
        "id": "pw5PbKOGFiJ1",
        "outputId": "96ec0748-6191-475e-999e-eb8fa815906c"
      },
      "execution_count": 8,
      "outputs": [
        {
          "output_type": "stream",
          "name": "stdout",
          "text": [
            "[5, 5, 5, 5, 5, 5]\n",
            "['Kamilla', 'Kamilla', 'Kamilla', 'Kamilla', 'Kamilla', 'Kamilla', 'Kamilla', 'Kamilla', 'Kamilla', 'Kamilla', 'Kamilla', 'Kamilla', 'Kamilla', 'Kamilla', 'Kamilla', 'Kamilla', 'Kamilla', 'Kamilla', 'Kamilla', 'Kamilla', 'Kamilla', 'Kamilla', 'Kamilla', 'Kamilla', 'Kamilla', 'Kamilla', 'Kamilla', 'Kamilla', 'Kamilla', 'Kamilla']\n",
            "['Ayaz', 'Liliya', 'Ayaz', 'Liliya', 'Ayaz', 'Liliya', 'Ayaz', 'Liliya', 'Ayaz', 'Liliya', 'Ayaz', 'Liliya', 'Ayaz', 'Liliya', 'Ayaz', 'Liliya', 'Ayaz', 'Liliya', 'Ayaz', 'Liliya']\n"
          ]
        }
      ]
    },
    {
      "cell_type": "code",
      "source": [
        "for name in students:\n",
        "  print(name, end=' ')"
      ],
      "metadata": {
        "colab": {
          "base_uri": "https://localhost:8080/"
        },
        "id": "ZgQZdEk3FuEV",
        "outputId": "9001f73b-a44d-4a31-b1c4-90aaa2a96f67"
      },
      "execution_count": 9,
      "outputs": [
        {
          "output_type": "stream",
          "name": "stdout",
          "text": [
            "Ayaz Liliya Ayaz Liliya Ayaz Liliya Ayaz Liliya Ayaz Liliya Ayaz Liliya Ayaz Liliya Ayaz Liliya Ayaz Liliya Ayaz Liliya "
          ]
        }
      ]
    },
    {
      "cell_type": "code",
      "source": [
        "students[0]"
      ],
      "metadata": {
        "colab": {
          "base_uri": "https://localhost:8080/",
          "height": 35
        },
        "id": "AVpSnirVF77F",
        "outputId": "8e0aeaab-d708-4a43-e727-9430ce6654a0"
      },
      "execution_count": 10,
      "outputs": [
        {
          "output_type": "execute_result",
          "data": {
            "text/plain": [
              "'Ayaz'"
            ],
            "application/vnd.google.colaboratory.intrinsic+json": {
              "type": "string"
            }
          },
          "metadata": {},
          "execution_count": 10
        }
      ]
    },
    {
      "cell_type": "code",
      "source": [
        "students[-1]"
      ],
      "metadata": {
        "colab": {
          "base_uri": "https://localhost:8080/",
          "height": 35
        },
        "id": "uG9jYHV4F-fl",
        "outputId": "e90a0995-c86d-4ec6-f538-622e85900aec"
      },
      "execution_count": 11,
      "outputs": [
        {
          "output_type": "execute_result",
          "data": {
            "text/plain": [
              "'Liliya'"
            ],
            "application/vnd.google.colaboratory.intrinsic+json": {
              "type": "string"
            }
          },
          "metadata": {},
          "execution_count": 11
        }
      ]
    },
    {
      "cell_type": "code",
      "source": [
        "people = [\"Kamilla\", \"Liliya\", \"Ayaz\", \"Bulat\"]"
      ],
      "metadata": {
        "id": "nQhqQItJGCL2"
      },
      "execution_count": 12,
      "outputs": []
    },
    {
      "cell_type": "code",
      "source": [
        "people[0]"
      ],
      "metadata": {
        "colab": {
          "base_uri": "https://localhost:8080/",
          "height": 35
        },
        "id": "y_mqF6Q5GDSN",
        "outputId": "a6edecdb-0858-429a-d01f-5f32744f0c18"
      },
      "execution_count": 13,
      "outputs": [
        {
          "output_type": "execute_result",
          "data": {
            "text/plain": [
              "'Kamilla'"
            ],
            "application/vnd.google.colaboratory.intrinsic+json": {
              "type": "string"
            }
          },
          "metadata": {},
          "execution_count": 13
        }
      ]
    },
    {
      "cell_type": "code",
      "source": [
        "people[3]"
      ],
      "metadata": {
        "colab": {
          "base_uri": "https://localhost:8080/",
          "height": 35
        },
        "id": "LFRmnFMvGEwe",
        "outputId": "db50e9bb-95ea-4be2-c162-ca892dd1cad4"
      },
      "execution_count": 14,
      "outputs": [
        {
          "output_type": "execute_result",
          "data": {
            "text/plain": [
              "'Bulat'"
            ],
            "application/vnd.google.colaboratory.intrinsic+json": {
              "type": "string"
            }
          },
          "metadata": {},
          "execution_count": 14
        }
      ]
    },
    {
      "cell_type": "code",
      "source": [
        "people[-1]"
      ],
      "metadata": {
        "colab": {
          "base_uri": "https://localhost:8080/",
          "height": 35
        },
        "id": "kjdhkjQIGIRF",
        "outputId": "73bfb08a-3abf-45b4-8ced-4c9ef5e12ee4"
      },
      "execution_count": 15,
      "outputs": [
        {
          "output_type": "execute_result",
          "data": {
            "text/plain": [
              "'Bulat'"
            ],
            "application/vnd.google.colaboratory.intrinsic+json": {
              "type": "string"
            }
          },
          "metadata": {},
          "execution_count": 15
        }
      ]
    },
    {
      "cell_type": "code",
      "source": [
        "people[-2]"
      ],
      "metadata": {
        "colab": {
          "base_uri": "https://localhost:8080/",
          "height": 35
        },
        "id": "Ke9RxRDnGKM8",
        "outputId": "c28d8ddf-0cc2-46ed-a470-821d33623934"
      },
      "execution_count": 16,
      "outputs": [
        {
          "output_type": "execute_result",
          "data": {
            "text/plain": [
              "'Ayaz'"
            ],
            "application/vnd.google.colaboratory.intrinsic+json": {
              "type": "string"
            }
          },
          "metadata": {},
          "execution_count": 16
        }
      ]
    },
    {
      "cell_type": "code",
      "source": [
        "people[5]"
      ],
      "metadata": {
        "colab": {
          "base_uri": "https://localhost:8080/",
          "height": 166
        },
        "id": "cEXK_TKvGM5M",
        "outputId": "99586250-a641-494e-9d1f-03a4091933aa"
      },
      "execution_count": 17,
      "outputs": [
        {
          "output_type": "error",
          "ename": "IndexError",
          "evalue": "ignored",
          "traceback": [
            "\u001b[0;31m---------------------------------------------------------------------------\u001b[0m",
            "\u001b[0;31mIndexError\u001b[0m                                Traceback (most recent call last)",
            "\u001b[0;32m<ipython-input-17-fa4ed036dcb4>\u001b[0m in \u001b[0;36m<module>\u001b[0;34m\u001b[0m\n\u001b[0;32m----> 1\u001b[0;31m \u001b[0mpeople\u001b[0m\u001b[0;34m[\u001b[0m\u001b[0;36m5\u001b[0m\u001b[0;34m]\u001b[0m\u001b[0;34m\u001b[0m\u001b[0;34m\u001b[0m\u001b[0m\n\u001b[0m",
            "\u001b[0;31mIndexError\u001b[0m: list index out of range"
          ]
        }
      ]
    },
    {
      "cell_type": "code",
      "source": [
        "people[-5]"
      ],
      "metadata": {
        "colab": {
          "base_uri": "https://localhost:8080/",
          "height": 166
        },
        "id": "1uNABjyZGQJM",
        "outputId": "87a9c5aa-cf72-4c27-c76d-d01c65bfa398"
      },
      "execution_count": 18,
      "outputs": [
        {
          "output_type": "error",
          "ename": "IndexError",
          "evalue": "ignored",
          "traceback": [
            "\u001b[0;31m---------------------------------------------------------------------------\u001b[0m",
            "\u001b[0;31mIndexError\u001b[0m                                Traceback (most recent call last)",
            "\u001b[0;32m<ipython-input-18-48ff2920ea16>\u001b[0m in \u001b[0;36m<module>\u001b[0;34m\u001b[0m\n\u001b[0;32m----> 1\u001b[0;31m \u001b[0mpeople\u001b[0m\u001b[0;34m[\u001b[0m\u001b[0;34m-\u001b[0m\u001b[0;36m5\u001b[0m\u001b[0;34m]\u001b[0m\u001b[0;34m\u001b[0m\u001b[0;34m\u001b[0m\u001b[0m\n\u001b[0m",
            "\u001b[0;31mIndexError\u001b[0m: list index out of range"
          ]
        }
      ]
    },
    {
      "cell_type": "code",
      "source": [
        "people = [\"Kamilla\", \"Ayaz\"]\n",
        "# добавляем в конец списка\n",
        "people.append(\"Alice\")  # [\"Kamilla\", \"Ayaz\", \"Alice\"]\n",
        "people"
      ],
      "metadata": {
        "colab": {
          "base_uri": "https://localhost:8080/"
        },
        "id": "gv8CjlPxGf7F",
        "outputId": "d2a8fab8-c452-4d8e-c433-269d779b5814"
      },
      "execution_count": 19,
      "outputs": [
        {
          "output_type": "execute_result",
          "data": {
            "text/plain": [
              "['Kamilla', 'Ayaz', 'Alice']"
            ]
          },
          "metadata": {},
          "execution_count": 19
        }
      ]
    },
    {
      "cell_type": "code",
      "source": [
        "# добавляем на вторую позицию\n",
        "people.insert(1, \"Kurban\")  # [\"Kamilla\", \"Kurban\", \"Ayaz\", \"Alice\"]\n",
        "people"
      ],
      "metadata": {
        "colab": {
          "base_uri": "https://localhost:8080/"
        },
        "id": "6VAVlvgdGoxL",
        "outputId": "8523b26a-5817-4196-e9dd-3ddc0cbcbf5c"
      },
      "execution_count": 21,
      "outputs": [
        {
          "output_type": "execute_result",
          "data": {
            "text/plain": [
              "['Kamilla', 'Kurban', 'Kurban', 'Ayaz', 'Alice']"
            ]
          },
          "metadata": {},
          "execution_count": 21
        }
      ]
    },
    {
      "cell_type": "code",
      "source": [
        "# добавляем на вторую позицию\n",
        "people.insert(3, \"Bayram\") \n",
        "people"
      ],
      "metadata": {
        "colab": {
          "base_uri": "https://localhost:8080/"
        },
        "id": "UfB3PgurG42K",
        "outputId": "5d391516-0e5d-4f8a-dc77-4019b9134cbe"
      },
      "execution_count": 22,
      "outputs": [
        {
          "output_type": "execute_result",
          "data": {
            "text/plain": [
              "['Kamilla', 'Kurban', 'Kurban', 'Bayram', 'Ayaz', 'Alice']"
            ]
          },
          "metadata": {},
          "execution_count": 22
        }
      ]
    },
    {
      "cell_type": "code",
      "source": [
        "# добавляем набор элементов [\"Enje\", \"Liliya\"]\n",
        "people.extend([\"Enje\", \"Liliya\"])    \n",
        "people "
      ],
      "metadata": {
        "colab": {
          "base_uri": "https://localhost:8080/"
        },
        "id": "EITF-zQQG3mq",
        "outputId": "b5889cf0-1617-41eb-8836-b22bacd5e7bc"
      },
      "execution_count": 24,
      "outputs": [
        {
          "output_type": "execute_result",
          "data": {
            "text/plain": [
              "['Kamilla',\n",
              " 'Kurban',\n",
              " 'Kurban',\n",
              " 'Bayram',\n",
              " 'Ayaz',\n",
              " 'Alice',\n",
              " 'Enje',\n",
              " 'Liliya',\n",
              " 'Enje',\n",
              " 'Liliya']"
            ]
          },
          "metadata": {},
          "execution_count": 24
        }
      ]
    },
    {
      "cell_type": "code",
      "source": [
        "# получаем индекс элемента\n",
        "index_of_Kamilla = people.index(\"Kamilla\")\n",
        "index_of_Kamilla"
      ],
      "metadata": {
        "colab": {
          "base_uri": "https://localhost:8080/"
        },
        "id": "LvtQSMoMHLsm",
        "outputId": "9346a30d-ea63-44ae-b572-1d0c95da97e6"
      },
      "execution_count": 28,
      "outputs": [
        {
          "output_type": "execute_result",
          "data": {
            "text/plain": [
              "0"
            ]
          },
          "metadata": {},
          "execution_count": 28
        }
      ]
    },
    {
      "cell_type": "code",
      "source": [
        "# удаляем по этому индексу\n",
        "removed_item = people.pop(index_of_Kamilla)    \n",
        "removed_item"
      ],
      "metadata": {
        "colab": {
          "base_uri": "https://localhost:8080/",
          "height": 35
        },
        "id": "_shEBfzxHYCk",
        "outputId": "b982793e-db77-49cc-c3c2-35d83e1e2624"
      },
      "execution_count": 29,
      "outputs": [
        {
          "output_type": "execute_result",
          "data": {
            "text/plain": [
              "'Kamilla'"
            ],
            "application/vnd.google.colaboratory.intrinsic+json": {
              "type": "string"
            }
          },
          "metadata": {},
          "execution_count": 29
        }
      ]
    },
    {
      "cell_type": "code",
      "source": [
        "people"
      ],
      "metadata": {
        "colab": {
          "base_uri": "https://localhost:8080/"
        },
        "id": "wSzkEYRWHhEr",
        "outputId": "ac0de974-0257-4e50-e4d2-847588ec3e01"
      },
      "execution_count": 33,
      "outputs": [
        {
          "output_type": "execute_result",
          "data": {
            "text/plain": [
              "['Bayram', 'Ayaz', 'Alice', 'Liliya', 'Enje', 'Liliya']"
            ]
          },
          "metadata": {},
          "execution_count": 33
        }
      ]
    },
    {
      "cell_type": "code",
      "source": [
        "people.pop(0)\n",
        "people"
      ],
      "metadata": {
        "colab": {
          "base_uri": "https://localhost:8080/"
        },
        "id": "NygEZjsLHl9E",
        "outputId": "88e0557a-11fa-4dd9-a7a7-220dddeb20d5"
      },
      "execution_count": 34,
      "outputs": [
        {
          "output_type": "execute_result",
          "data": {
            "text/plain": [
              "['Ayaz', 'Alice', 'Liliya', 'Enje', 'Liliya']"
            ]
          },
          "metadata": {},
          "execution_count": 34
        }
      ]
    },
    {
      "cell_type": "code",
      "source": [
        "people.pop()    \n",
        "people"
      ],
      "metadata": {
        "colab": {
          "base_uri": "https://localhost:8080/"
        },
        "id": "9d4Ft6SWHvJ7",
        "outputId": "03735518-19f4-4836-9207-eac3639ac02d"
      },
      "execution_count": 35,
      "outputs": [
        {
          "output_type": "execute_result",
          "data": {
            "text/plain": [
              "['Ayaz', 'Alice', 'Liliya', 'Enje']"
            ]
          },
          "metadata": {},
          "execution_count": 35
        }
      ]
    },
    {
      "cell_type": "code",
      "source": [
        "people.remove('Alice')\n",
        "people"
      ],
      "metadata": {
        "colab": {
          "base_uri": "https://localhost:8080/"
        },
        "id": "yfFPaLa1IDHt",
        "outputId": "ae6093e5-5508-44e6-a544-025e15a55eb2"
      },
      "execution_count": 36,
      "outputs": [
        {
          "output_type": "execute_result",
          "data": {
            "text/plain": [
              "['Ayaz', 'Liliya', 'Enje']"
            ]
          },
          "metadata": {},
          "execution_count": 36
        }
      ]
    },
    {
      "cell_type": "code",
      "source": [
        "people.clear()\n",
        "print(people) "
      ],
      "metadata": {
        "colab": {
          "base_uri": "https://localhost:8080/"
        },
        "id": "jHuQ2lB3IJ8e",
        "outputId": "1cb7f8d5-fda8-4398-c317-99ceca9c83b0"
      },
      "execution_count": 37,
      "outputs": [
        {
          "output_type": "stream",
          "name": "stdout",
          "text": [
            "[]\n"
          ]
        }
      ]
    },
    {
      "cell_type": "code",
      "source": [
        "people = [\"Kamilla\", \"Liliya\", \"Ayaz\", \"Bulat\"]"
      ],
      "metadata": {
        "id": "O1EkC-t0IuOc"
      },
      "execution_count": 38,
      "outputs": []
    },
    {
      "cell_type": "code",
      "source": [
        "people[0]=\"Kamillabonu\""
      ],
      "metadata": {
        "id": "lGqYbgk3Iwkr"
      },
      "execution_count": 39,
      "outputs": []
    },
    {
      "cell_type": "code",
      "source": [
        "people"
      ],
      "metadata": {
        "colab": {
          "base_uri": "https://localhost:8080/"
        },
        "id": "ebIvqYVdI22T",
        "outputId": "f3797790-664d-4ba1-a3a3-24bded05f480"
      },
      "execution_count": 40,
      "outputs": [
        {
          "output_type": "execute_result",
          "data": {
            "text/plain": [
              "['Kamillabonu', 'Liliya', 'Ayaz', 'Bulat']"
            ]
          },
          "metadata": {},
          "execution_count": 40
        }
      ]
    },
    {
      "cell_type": "code",
      "source": [
        "people.sort()\n",
        "people"
      ],
      "metadata": {
        "colab": {
          "base_uri": "https://localhost:8080/"
        },
        "id": "x9IwieWYI7r0",
        "outputId": "46fadfdb-5eea-4960-e850-fe7390d1ad15"
      },
      "execution_count": 41,
      "outputs": [
        {
          "output_type": "execute_result",
          "data": {
            "text/plain": [
              "['Ayaz', 'Bulat', 'Kamillabonu', 'Liliya']"
            ]
          },
          "metadata": {},
          "execution_count": 41
        }
      ]
    },
    {
      "cell_type": "code",
      "source": [
        "people.reverse()\n",
        "people"
      ],
      "metadata": {
        "colab": {
          "base_uri": "https://localhost:8080/"
        },
        "id": "1_pzjTMcJJiu",
        "outputId": "3d741f59-3d73-480b-fbc9-07c5781f0663"
      },
      "execution_count": 42,
      "outputs": [
        {
          "output_type": "execute_result",
          "data": {
            "text/plain": [
              "['Liliya', 'Kamillabonu', 'Bulat', 'Ayaz']"
            ]
          },
          "metadata": {},
          "execution_count": 42
        }
      ]
    },
    {
      "cell_type": "markdown",
      "source": [
        "### Проверка наличия элемента\n",
        "Если определенный элемент не найден, то методы remove и index генерируют исключение. Чтобы избежать подобной ситуации, перед операцией с элементом можно проверять его наличие с помощью ключевого слова in:"
      ],
      "metadata": {
        "id": "mm_lmG-mJYYa"
      }
    },
    {
      "cell_type": "code",
      "source": [
        "people = [\"Kamilla\", \"Ayaz\", \"Alice\", \"Liliya\"]\n",
        "\n",
        "if \"Alice\" in people:\n",
        "    people.remove(\"Alice\")\n",
        "print(people)       # [\"Kamilla\", \"Ayaz\", \"Liliya\"]\n"
      ],
      "metadata": {
        "colab": {
          "base_uri": "https://localhost:8080/"
        },
        "id": "_3_azCWHJSyN",
        "outputId": "51c6eaaa-411a-4431-8b12-69fcf291dddc"
      },
      "execution_count": 44,
      "outputs": [
        {
          "output_type": "stream",
          "name": "stdout",
          "text": [
            "['Kamilla', 'Ayaz', 'Liliya']\n"
          ]
        }
      ]
    },
    {
      "cell_type": "markdown",
      "source": [
        "### Удаление с помощью del\n",
        "Python также поддерживает еще один способ удаления элементов списка - с помощью оператора del. В качестве параметра этому оператору передается удаляемый элемент или набор элементов:"
      ],
      "metadata": {
        "id": "J1TVf6VYJsXf"
      }
    },
    {
      "cell_type": "code",
      "source": [
        "people = [\"Kamilla\", \"Ayaz\", \"Alice\", \"Liliya\", \"Kurban\", \"Bulat\", \"Enje\"]\n",
        "\n",
        "del people[1]   # удаляем второй элемент\n",
        "print(people)  "
      ],
      "metadata": {
        "colab": {
          "base_uri": "https://localhost:8080/"
        },
        "id": "K1PNMvb8Jgna",
        "outputId": "cee315da-b9a5-4fb8-de69-c766b602a3ee"
      },
      "execution_count": 46,
      "outputs": [
        {
          "output_type": "stream",
          "name": "stdout",
          "text": [
            "['Kamilla', 'Alice', 'Liliya', 'Kurban', 'Bulat', 'Enje']\n"
          ]
        }
      ]
    },
    {
      "cell_type": "code",
      "source": [
        "people = [\"Kamilla\", \"Ayaz\", \"Alice\", \"Liliya\", \"Kurban\", \"Bulat\", \"Enje\"]\n",
        "del people[:3]   # удаляем  по четвертый элемент не включая\n",
        "print(people) \n"
      ],
      "metadata": {
        "colab": {
          "base_uri": "https://localhost:8080/"
        },
        "id": "dW7Vvk4BJ8A6",
        "outputId": "cdb875b3-f920-471f-fbcb-f2538c08c2b8"
      },
      "execution_count": 47,
      "outputs": [
        {
          "output_type": "stream",
          "name": "stdout",
          "text": [
            "['Liliya', 'Kurban', 'Bulat', 'Enje']\n"
          ]
        }
      ]
    },
    {
      "cell_type": "code",
      "source": [
        "people = [\"Kamilla\", \"Ayaz\", \"Alice\", \"Liliya\", \"Kurban\", \"Bulat\", \"Enje\"]\n",
        "del people[-1]   # удаляем  по четвертый элемент не включая\n",
        "print(people) "
      ],
      "metadata": {
        "colab": {
          "base_uri": "https://localhost:8080/"
        },
        "id": "WKqXBoYZKEAB",
        "outputId": "b3f5c726-b295-4da0-a776-193239f447ee"
      },
      "execution_count": 48,
      "outputs": [
        {
          "output_type": "stream",
          "name": "stdout",
          "text": [
            "['Kamilla', 'Ayaz', 'Alice', 'Liliya', 'Kurban', 'Bulat']\n"
          ]
        }
      ]
    },
    {
      "cell_type": "code",
      "source": [
        "people = [\"Kamilla\", \"Ayaz\", \"Alice\", \"Kamilla\", \"Kurban\", \"Kamilla\"]\n",
        "\n",
        "people_count = people.count(\"Kamilla\")\n",
        "print(people_count)      # 3"
      ],
      "metadata": {
        "colab": {
          "base_uri": "https://localhost:8080/"
        },
        "id": "k5b3v4zlKPix",
        "outputId": "5611f3f9-5901-48c2-df63-a09995ef1577"
      },
      "execution_count": 49,
      "outputs": [
        {
          "output_type": "stream",
          "name": "stdout",
          "text": [
            "3\n"
          ]
        }
      ]
    },
    {
      "cell_type": "markdown",
      "source": [
        "### Минимальное и максимальное значения\n",
        "Встроенный функции Python min() и max() позволяют найти минимальное и максимальное значения соответственно:"
      ],
      "metadata": {
        "id": "LI_AbaknKX-F"
      }
    },
    {
      "cell_type": "code",
      "source": [
        "numbers = [9, 21, 12, 1, 3, 15, 18]\n",
        "print(min(numbers))     # 1\n",
        "print(max(numbers))     # 21"
      ],
      "metadata": {
        "colab": {
          "base_uri": "https://localhost:8080/"
        },
        "id": "w_TkXXJ4KcdE",
        "outputId": "031d3870-e0aa-4fa5-88cf-76d3acba01b8"
      },
      "execution_count": 50,
      "outputs": [
        {
          "output_type": "stream",
          "name": "stdout",
          "text": [
            "1\n",
            "21\n"
          ]
        }
      ]
    },
    {
      "cell_type": "code",
      "source": [
        "people = [\"Kamilla\", \"Ayaz\", \"Alice\", \"Kamilla\", \"Kurban\", \"Kamilla\"]\n",
        "\n",
        "people"
      ],
      "metadata": {
        "colab": {
          "base_uri": "https://localhost:8080/"
        },
        "id": "wnlCPIYLKn5q",
        "outputId": "334b965f-7023-49c3-dddd-c22177f90a7c"
      },
      "execution_count": 51,
      "outputs": [
        {
          "output_type": "execute_result",
          "data": {
            "text/plain": [
              "['Kamilla', 'Ayaz', 'Alice', 'Kamilla', 'Kurban', 'Kamilla']"
            ]
          },
          "metadata": {},
          "execution_count": 51
        }
      ]
    },
    {
      "cell_type": "code",
      "source": [
        "people_1=people[2:]\n",
        "people_1"
      ],
      "metadata": {
        "colab": {
          "base_uri": "https://localhost:8080/"
        },
        "id": "8PGCzR7uKrVZ",
        "outputId": "0b07e4af-6845-42e9-8938-3b6f997e8068"
      },
      "execution_count": 52,
      "outputs": [
        {
          "output_type": "execute_result",
          "data": {
            "text/plain": [
              "['Alice', 'Kamilla', 'Kurban', 'Kamilla']"
            ]
          },
          "metadata": {},
          "execution_count": 52
        }
      ]
    },
    {
      "cell_type": "code",
      "source": [
        "people1 = [\"Kamilla\", \"Ayaz\", \"Alice\"]\n",
        "people2 = [\"Kamilla\", \"Liliya\", \"Madina\", \"Kurban\"]\n",
        "people3 = people1 + people2\n",
        "print(people3)   # [\"Kamilla\", \"Ayaz\", \"Alice\", \"Kamilla\", \"Liliya\", \"Madina\", \"Kurban\"]\n"
      ],
      "metadata": {
        "colab": {
          "base_uri": "https://localhost:8080/"
        },
        "id": "2-FwvxFFK2GI",
        "outputId": "0697c44e-8f17-4e1d-a476-2e9c393cb7be"
      },
      "execution_count": 53,
      "outputs": [
        {
          "output_type": "stream",
          "name": "stdout",
          "text": [
            "['Kamilla', 'Ayaz', 'Alice', 'Kamilla', 'Liliya', 'Madina', 'Kurban']\n"
          ]
        }
      ]
    },
    {
      "cell_type": "code",
      "source": [
        "people = [\n",
        "    [\"Kamilla\", 18],\n",
        "    [\"Alice\", 18],\n",
        "    [\"Ayaz\", 23]\n",
        "]\n",
        "print(people)\n",
        "# создание вложенного списка\n",
        "person = list()\n",
        "person.append(\"Kurban\")\n",
        "person.append(41)\n",
        "print(person)"
      ],
      "metadata": {
        "colab": {
          "base_uri": "https://localhost:8080/"
        },
        "id": "LhEiosn8LFUA",
        "outputId": "66986403-701f-400e-ea8d-027996a6e048"
      },
      "execution_count": 58,
      "outputs": [
        {
          "output_type": "stream",
          "name": "stdout",
          "text": [
            "[['Kamilla', 18], ['Alice', 18], ['Ayaz', 23]]\n",
            "['Kurban', 41]\n"
          ]
        }
      ]
    },
    {
      "cell_type": "code",
      "source": [
        "# добавление вложенного списка\n",
        "people.append(person)\n",
        "\n",
        "print(people)         # [\"Kurban\", 41]\n"
      ],
      "metadata": {
        "colab": {
          "base_uri": "https://localhost:8080/"
        },
        "id": "-b3CjavnLhVn",
        "outputId": "ebe1fa8b-9421-4698-e601-496837658fb9"
      },
      "execution_count": 61,
      "outputs": [
        {
          "output_type": "stream",
          "name": "stdout",
          "text": [
            "[['Kamilla', 18], ['Alice', 18], ['Ayaz', 23], ['Kurban', 41], ['Kurban', 41], ['Kurban', 41]]\n"
          ]
        }
      ]
    },
    {
      "cell_type": "code",
      "source": [
        "\n",
        "# добавление во вложенный список\n",
        "people[-1].append(\"+79876543210\")\n",
        "\n",
        "print(people[-1])         # [\"Kurban\", 41, \"+79876543210\"]\n"
      ],
      "metadata": {
        "colab": {
          "base_uri": "https://localhost:8080/"
        },
        "id": "nTHosnwkLo-a",
        "outputId": "2ebb4f67-43a4-458a-f24e-078dc630f633"
      },
      "execution_count": 62,
      "outputs": [
        {
          "output_type": "stream",
          "name": "stdout",
          "text": [
            "['Kurban', 41, '+79876543210']\n"
          ]
        }
      ]
    },
    {
      "cell_type": "code",
      "source": [
        "\n",
        "# удаление последнего элемента из вложенного списка\n",
        "people[-1].pop()\n",
        "print(people[-1])         # [\"Kurban\", 41]\n",
        "\n",
        "# удаление всего последнего вложенного списка\n",
        "people.pop(-1)\n",
        "\n",
        "# изменение первого элемента\n",
        "people[0] = [\"Liliya\", 18]\n",
        "print(people)            # [ [\"Liliya\", 18], [\"Alice\", 33], [\"Ayaz\", 27]]\n"
      ],
      "metadata": {
        "colab": {
          "base_uri": "https://localhost:8080/"
        },
        "id": "30Su7cEXLk-V",
        "outputId": "9e9fbb9f-7806-43c3-ccef-4d4b96e88654"
      },
      "execution_count": 64,
      "outputs": [
        {
          "output_type": "stream",
          "name": "stdout",
          "text": [
            "['Kurban']\n",
            "[['Liliya', 18], ['Alice', 18], ['Ayaz', 23], ['Kurban']]\n"
          ]
        }
      ]
    },
    {
      "cell_type": "markdown",
      "source": [
        "**Array1.** Дано целое число N (> 0). Сформировать и вывести целочисленный массив размера N, содержащий N первых положительных нечетных чисел:1, 3, 5, . . . .\n"
      ],
      "metadata": {
        "id": "PUkNtFlOL_ri"
      }
    },
    {
      "cell_type": "code",
      "source": [
        "a=[]\n",
        "n=int(input())\n",
        "for i in range(n):\n",
        "  a.append(2*i+1)\n",
        "print(a)"
      ],
      "metadata": {
        "colab": {
          "base_uri": "https://localhost:8080/"
        },
        "id": "Hme-S8GbL2Bj",
        "outputId": "1e0a1f38-9737-4351-8d59-371d555b536d"
      },
      "execution_count": 65,
      "outputs": [
        {
          "output_type": "stream",
          "name": "stdout",
          "text": [
            "10\n",
            "[1, 3, 5, 7, 9, 11, 13, 15, 17, 19]\n"
          ]
        }
      ]
    },
    {
      "cell_type": "markdown",
      "source": [
        "**Array2**. Дано целое число N (> 0). Сформировать и вывести целочисленный массив размера N, содержащий степени двойки от первой до N-й: 2, 4,8, 16, . . . .\n"
      ],
      "metadata": {
        "id": "wCPF9CHSNBZ5"
      }
    },
    {
      "cell_type": "code",
      "source": [
        "a=[]\n",
        "n=int(input())\n",
        "for i in range (1,n+1):\n",
        "  a.append(2**i)\n",
        "print(a)"
      ],
      "metadata": {
        "colab": {
          "base_uri": "https://localhost:8080/"
        },
        "id": "2w13qknMNEJ3",
        "outputId": "0d1512db-c54b-480d-a998-fc54a6de2580"
      },
      "execution_count": 67,
      "outputs": [
        {
          "output_type": "stream",
          "name": "stdout",
          "text": [
            "5\n",
            "[2, 4, 8, 16, 32]\n"
          ]
        }
      ]
    },
    {
      "cell_type": "markdown",
      "source": [
        "**Array3**. Дано целое число N (> 1), а также первый член A и разность D арифметической прогрессии. Сформировать и вывести массив размера N, содержащий N первых членов данной прогрессии:\n",
        "A, A + D, A + 2·D, A + 3·D, . . . .\n"
      ],
      "metadata": {
        "id": "vmzytTWmOtLF"
      }
    },
    {
      "cell_type": "code",
      "source": [
        "x=[]\n",
        "n=int(input())\n",
        "a=int(input())\n",
        "d=int(input())\n",
        "for i in range (n):\n",
        "  x.append(a+i*d)\n",
        "print(x)"
      ],
      "metadata": {
        "colab": {
          "base_uri": "https://localhost:8080/"
        },
        "id": "dzruWDhTO2uT",
        "outputId": "c203c72d-2141-490d-c858-f33d89821846"
      },
      "execution_count": 71,
      "outputs": [
        {
          "output_type": "stream",
          "name": "stdout",
          "text": [
            "10\n",
            "2\n",
            "5\n",
            "[2, 7, 12, 17, 22, 27, 32, 37, 42, 47]\n"
          ]
        }
      ]
    }
  ]
}